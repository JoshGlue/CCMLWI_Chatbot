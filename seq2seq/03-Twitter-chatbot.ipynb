{
 "cells": [
  {
   "cell_type": "markdown",
   "metadata": {
    "deletable": true,
    "editable": true
   },
   "source": [
    "# Demonstrate Seq2Seq Wrapper with twitter chat log"
   ]
  },
  {
   "cell_type": "code",
   "execution_count": 6,
   "metadata": {
    "collapsed": false,
    "deletable": true,
    "editable": true
   },
   "outputs": [],
   "source": [
    "import tensorflow as tf\n",
    "import numpy as np\n",
    "\n",
    "# preprocessed data\n",
    "from datasets.twitter import data\n",
    "import data_utils"
   ]
  },
  {
   "cell_type": "code",
   "execution_count": 7,
   "metadata": {
    "collapsed": false,
    "deletable": true,
    "editable": true
   },
   "outputs": [
    {
     "name": "stdout",
     "output_type": "stream",
     "text": [
      "[[   7  106    3 ...,    0    0    0]\n",
      " [ 100    4  467 ..., 3840   16 1585]\n",
      " [   1    1 1741 ...,    0    0    0]\n",
      " ..., \n",
      " [ 855  313   32 ..., 1071 1989  316]\n",
      " [2386  145   74 ...,    0    0    0]\n",
      " [7867  606  316 ...,    0    0    0]]\n"
     ]
    }
   ],
   "source": [
    "# load data from pickle and npy files\n",
    "metadata, idx_q, idx_a = data.load_data(PATH='datasets/twitter/')\n",
    "print(idx_q)\n",
    "(trainX, trainY), (testX, testY), (validX, validY) = data_utils.split_dataset(idx_q, idx_a)\n"
   ]
  },
  {
   "cell_type": "code",
   "execution_count": 8,
   "metadata": {
    "collapsed": false,
    "deletable": true,
    "editable": true
   },
   "outputs": [],
   "source": [
    "# parameters \n",
    "xseq_len = trainX.shape[-1]\n",
    "yseq_len = trainY.shape[-1]\n",
    "batch_size = 16\n",
    "xvocab_size = len(metadata['idx2w'])  \n",
    "yvocab_size = xvocab_size\n",
    "emb_dim = 1024"
   ]
  },
  {
   "cell_type": "code",
   "execution_count": 9,
   "metadata": {
    "collapsed": true,
    "deletable": true,
    "editable": true
   },
   "outputs": [],
   "source": [
    "import seq2seq_wrapper"
   ]
  },
  {
   "cell_type": "code",
   "execution_count": 10,
   "metadata": {
    "collapsed": false,
    "deletable": true,
    "editable": true
   },
   "outputs": [
    {
     "data": {
      "text/plain": [
       "<module 'seq2seq_wrapper' from '/home/joshua/Radboud/CCMLWI/wg4-chatbot/CCMLWI_Chatbot/seq2seq/seq2seq_wrapper.py'>"
      ]
     },
     "execution_count": 10,
     "metadata": {},
     "output_type": "execute_result"
    }
   ],
   "source": [
    "import importlib\n",
    "importlib.reload(seq2seq_wrapper)"
   ]
  },
  {
   "cell_type": "code",
   "execution_count": 11,
   "metadata": {
    "collapsed": false,
    "deletable": true,
    "editable": true
   },
   "outputs": [
    {
     "name": "stdout",
     "output_type": "stream",
     "text": [
      "<log> Building Graph </log>"
     ]
    }
   ],
   "source": [
    "model = seq2seq_wrapper.Seq2Seq(xseq_len=xseq_len,\n",
    "                               yseq_len=yseq_len,\n",
    "                               xvocab_size=xvocab_size,\n",
    "                               yvocab_size=yvocab_size,\n",
    "                               ckpt_path='ckpt/twitter/',\n",
    "                               emb_dim=emb_dim,\n",
    "                               num_layers=3\n",
    "                               )"
   ]
  },
  {
   "cell_type": "code",
   "execution_count": 12,
   "metadata": {
    "collapsed": true,
    "deletable": true,
    "editable": true
   },
   "outputs": [],
   "source": [
    "val_batch_gen = data_utils.rand_batch_gen(validX, validY, 256)\n",
    "test_batch_gen = data_utils.rand_batch_gen(testX, testY, 256)\n",
    "train_batch_gen = data_utils.rand_batch_gen(trainX, trainY, batch_size)"
   ]
  },
  {
   "cell_type": "code",
   "execution_count": 8,
   "metadata": {
    "collapsed": false,
    "deletable": true,
    "editable": true
   },
   "outputs": [],
   "source": [
    "#sess = model.train(train_batch_gen, val_batch_gen)"
   ]
  },
  {
   "cell_type": "code",
   "execution_count": 14,
   "metadata": {
    "collapsed": true,
    "deletable": true,
    "editable": true
   },
   "outputs": [],
   "source": [
    "sess = model.restore_last_session()"
   ]
  },
  {
   "cell_type": "code",
   "execution_count": 17,
   "metadata": {
    "collapsed": false,
    "deletable": true,
    "editable": true
   },
   "outputs": [
    {
     "name": "stdout",
     "output_type": "stream",
     "text": [
      "(20, 256)\n",
      "(256, 20)\n"
     ]
    }
   ],
   "source": [
    "input_ = test_batch_gen.__next__()[0]\n",
    "print(input_.shape)\n",
    "output = model.predict(sess, input_)\n",
    "print(output.shape)"
   ]
  },
  {
   "cell_type": "code",
   "execution_count": 11,
   "metadata": {
    "collapsed": false,
    "deletable": true,
    "editable": true
   },
   "outputs": [
    {
     "name": "stdout",
     "output_type": "stream",
     "text": [
      "q : [has it been unk yet in any fest]; a : [but its not a good idea]\n",
      "q : [whats going on i missed it all i hear is unk in at unk now]; a : [i think the same thing is]\n",
      "q : [live with the giant unk unk come watch amp retweet for a live shoutout]; a : [this is a good thing to be the first time]\n",
      "q : [cmon i wanna endorse you]; a : [is that a joke]\n",
      "q : [the less you worry about what other people are saying or doing the happier you will be]; a : [i dont think its a joke but i dont think the same thing is the only thing]\n",
      "q : [should i delete this tweet or let the typo stand as a joke]; a : [they dont have to be a fucking one]\n",
      "q : [unk to find this on the beach this morning a unk reminder of the impact we have on our environment]; a : [is this a thing]\n",
      "q : [if they worked no one would ever need to pay a unk again]; a : [maybe if you have any idea what to do with the other states]\n",
      "q : [seattle rudy unk kicked the shit out of my unk girlfriend last night do not support this garbage h]; a : [you are not a fan of the day ]\n",
      "q : [theyve been trying to unk unk social security for decades and its just not happening]; a : [i think i could be in the same side]\n",
      "q : [happy speak like a pirate day i love this booty  ]; a : [happy birthday ]\n",
      "q : [islamic terrorism is rightwing terrorism]; a : [trump is a disgrace to humanity]\n",
      "q : [will they be on sale unk]; a : [i dont think they were talking about the same side]\n",
      "q : [hes also questioning her policy no he seems to want her to jack up rates]; a : [because he has a chance to get a wall of her]\n",
      "q : [when you lack the stamina to finish the debate respectfully]; a : [the whole time]\n",
      "q : [lmaoooo bro this has been nyc unk for a minute now though heard the unk]; a : [lol i just got it but i was just on the game]\n",
      "q : [if so tell me for tomorrows show ill be pouring a little out blackberry always made me feel l]; a : [this is so cool]\n",
      "q : [also like do you even have a job ]; a : [did you think he was a good job and i dont know what to do]\n",
      "q : [its a surprise ]; a : [i think its a good idea]\n",
      "q : [whoever brings up racism is the racist stop being the victim open your eyes]; a : [so you are a moron and a woman who has a problem to the public country]\n",
      "q : [the inspiring world of color unk through the eyes of  unk to color her]; a : [ you are so excited to hear this]\n",
      "q : [thats unk not sweden tho]; a : [i dont know what i was talking about]\n",
      "q : [between this amp the unk review important elements of the american right are going the full unk]; a : [heres the link to the ground]\n",
      "q : [beauty unk by trump accused of being murder unk dont believe ]; a : [and the world]\n",
      "q : [thats a real fear of mine]; a : [i dont know what to say]\n",
      "q : [i dont even know you guys but i love you two together cause the cute funny shit you tweet]; a : [i was just thinking about it]\n",
      "q : [i wore a dad outfit to walk to the grocery store]; a : [literally a little fan of my life]\n",
      "q : [how many emails does it take to design a simple welcome pack unk and counting apparently]; a : [i wish i could be there in the middle of the year]\n",
      "q : [thats awesome so far he hasnt lied to his supporters its why unk show up to events]; a : [he is not a joke but he was a pathological liar of course he is a pathological liar]\n",
      "q : [now is live in sf i think their main competition here is a major ]; a : [its so good]\n",
      "q : [i used it on food ]; a : [i know it was a good day]\n",
      "q : [michelle obama on trumps temperament we need an adult in the white house via]; a : [dont worry about the debate is a real woman who is a criminal]\n",
      "q : [thanks i hope ugly people dont come to starbucks today]; a : [you know me]\n",
      "q : [i may be unk never know]; a : [i dont know what to do it]\n",
      "q : [unk through instagram and i see comment on unk video lol]; a : [omg she was so cute]\n",
      "q : [in the industry pay attn candidates ha]; a : [he just said he was born in the middle of the debate]\n",
      "q : [i need a new twitter header send me ideas no dicks]; a : [you can use a new phone of the website of the website]\n",
      "q : [okay now im gonna unk this radio and sing way off unk]; a : [love you guys]\n",
      "q : [all unk people at marlins stadium just witnessed the second coming of bruce he has unk]; a : [not sure i was thinking about this one of the time i was in the same place]\n",
      "q : [3 hour delay for changing a unk wth because the unk dont have a tool]; a : [the best thing ive ever seen]\n",
      "q : [best ever late stage hip hop video ever superstar edit unk you are you killed it]; a : [i was thinking the same thing was a lot of people in the world]\n",
      "q : [wow i love this video]; a : [this is the best thing ive ever seen]\n",
      "q : [identified man unk folder from hillary podium unk to nbc holt on video please retweet]; a : [this is a joke of the debate]\n",
      "q : [talking abt u judge  ]; a : [   ]\n",
      "q : [shoutout to my unk amp i love you precious angels so much ]; a : [love you too ]\n",
      "q : [its fine i can leave comments  maybe theres a limit on how many can be active at on]; a : [ i have a new one ]\n",
      "q : [hillary is doing a postdebate rally she is unk and supporters are looking happy trump meanwhile has unk the scene]; a : [she admitted it filth]\n",
      "q : [theres no unk this month]; a : [you know what you mean]\n",
      "q : [haha yes january 2009 side note let me know when youre free]; a : [you were going to be a good time to get a wall and get a new phone]\n",
      "q : [with  when takes over   ]; a : [yes the only one is a joke]\n",
      "q : [oh my goodness the entire post is even better]; a : [its not a little fan]\n",
      "q : [i saw you as you went past but didnt manage to say hi  will have to catch you unk]; a : [i was thinking about the same side]\n",
      "q : [is this investigation for everyone i tweeted ask unk i dont recall ever getting any reward ever]; a : [you know me too much]\n",
      "q : [im wondering why my name isnt on the schedule for next week]; a : [its not my favorite thing]\n",
      "q : [yo my mom tells me to go to therapy she thinks i need help lmao]; a : [omg this is my favorite ]\n",
      "q : [rt theres no better combo than coffee amp milk any time of day no more]; a : [dont be fair]\n",
      "q : [unk people had to be turned away from the massive donald trump rally in florida yesterday hillary has no unk]; a : [and you are not kidding checking up the debate]\n",
      "q : [this is new your moms one too like wth]; a : [ah i think its a good thing to do]\n",
      "q : [what does that mean]; a : [it was a joke]\n",
      "q : [mt  im an american and im sick of the corruption in dc]; a : [yep dont know what the hell is]\n",
      "q : [lol im right with you]; a : [i dont know what you want to be]\n",
      "q : [dont place confidence in leaders of this country they suck god is the only leader you should be rooting for]; a : [is not even say the same thing]\n",
      "q : [something snapchat related ]; a : [i dont know what the fuck is that]\n",
      "q : [rigged cnn postdebate poll is a unk win for hillary in a one of a kind flash poll ]; a : [the only one of the debate is the only reason that he wants to be president]\n",
      "q : [i have the biggest crush on  shutting sht down and making me laugh my kinda guy]; a : [update you can relate to me with me and i can get it]\n",
      "q : [but of course unk will leave price in to give up lots more runs to put this out of reach]; a : [i think they were able to be trusted with the same side]\n",
      "q : [see you there ]; a : [ i have a feeling to get a good time]\n",
      "q : [no michael savage is the best unk is a moron]; a : [yes but its a good thing]\n",
      "q : [anyone that plays the game would work]; a : [dont worry about it]\n",
      "q : [get the info at learn your states registration rules and how to]; a : [tell me what you think about it]\n",
      "q : [unk but couldnt resist playing in the crazy waves also see my little spray bottle of vodka n coke ]; a : [dude i was thinking about it too]\n",
      "q : [and thank you for spending an hour with us talking unk unk ]; a : [what a great photo]\n",
      "q : [did you see what happened to jan de unk head while filming]; a : [no i didnt even know what to do it]\n",
      "q : [you bout to inspire me lmaooooo]; a : [you should be a little bit ]\n",
      "q : [i hope hes creepy andor not creepy either way its a win for me its all about me]; a : [he is a lot of the time to the end of the game]\n",
      "q : [when he sends money to my cash app ]; a : [what about the new phone]\n",
      "q : [pandering for a vote to a people that u show r unk u is racism]; a : [this is why i want to be a real person]\n",
      "q : [get in that chair]; a : [not sure you were talking about it]\n",
      "q : [i have created a forum for michael unk feel free to come over and have a look around]; a : [oh i love you guys ]\n",
      "q : [yes unk problem as a moderator from the trump camps point of view was that he let trump talk]; a : [so true i dont know what the hell is that]\n",
      "q : [ladies why yall dont be g checking ya friend with the unk]; a : [lol i dont know what to do anything ]\n",
      "q : [a toss up between a unk and a entitled liar thats why im voting 3rd party]; a : [or white people]\n",
      "q : [hahaha aw we were babies i was a unk in hs]; a : [this is so cute]\n",
      "q : [im torn i want this shitty season over with but ill miss baseball too]; a : [lol i just got to get a pic of the whole time lol]\n",
      "q : [were also very very lucky that the unk tried to use unk rather than guns]; a : [so much and the media is so stupid and she is so stupid and she is so sick]\n",
      "q : [you know im always on your side]; a : [and i dont know what to do]\n",
      "q : [so excited to be hosting in ]; a : [cant wait to see you there]\n",
      "q : [just making sure you know lol didnt wanna seem rude if you had gotten offended lol]; a : [is the first time]\n",
      "q : [we will find when i arrive]; a : [im not sure if you can get a chance to get a good time to get back on the future]\n",
      "q : [let the party unk begin ]; a : [you know how to do ]\n",
      "q : [great talking with you this morning]; a : [good morning bro]\n",
      "q : [unk carter  how i knew via]; a : [i was thinking of this]\n",
      "q : [unk aka i watched a documentary on second wave once and im now an expert ama]; a : [wait what happened to that]\n",
      "q : [who loves me enough to hook their favorite unk up]; a : [this is my favorite tweet ever]\n",
      "q : [imagine having a body like beyonc ]; a : [or the fuck]\n",
      "q : [haha unk love that gif hit me up well get you rolling]; a : [hey i know you were going to be a good day ]\n",
      "q : [did you have a memorable birthday]; a : [i dont know how to do it]\n",
      "q : [also unk doesnt exactly describe this unk you bought tickets to see three bands play and so you shall]; a : [ the world is a good game of the game]\n",
      "q : [its weird when older individuals on facebook go and tag people in photos that arent them]; a : [i agree with the original ones in the world of the world of the world of the world]\n",
      "q : [thats how my hair got messed up  but maybe for next summer]; a : [lol i just got to get a ticket with my mom and i can get it ]\n",
      "q : [how significant is this type of injury unk]; a : [i think he was a lot of people in the middle of the world]\n",
      "q : [happy 22nd birthday to my unk i love you unk amp you are getting older than white dog shit ]; a : [thank you so much love you too]\n",
      "q : [yeah just weird]; a : [this is a good thing]\n",
      "q : [whats one unk product you cant live without ]; a : [is there a new yorker]\n",
      "q : [actually me]; a : [my mom is so cute]\n",
      "q : [people to follow]; a : [dude i dont even know what to do]\n",
      "q : [omg what a throwback to think our daughters were born on the same days ]; a : [what is the truth]\n",
      "q : [unk is sex not gender]; a : [still waiting for a good time]\n",
      "q : [i am heavily biased against women so please unk from telling me you are one until ive made other unk]; a : [haha i agree but i am not sure what you are talking about the truth and the other day]\n",
      "q : [there is something called a write in you can still vote bernie if you like]; a : [you know what the hell is trump is a racist]\n",
      "q : [lol that shit was on unk for unk too but ion trust it]; a : [not not a fan of the game]\n",
      "q : [oh nah didnt mean it that way no problem lol]; a : [they dont know what they want]\n",
      "q : [what about airbnb]; a : [i dont think its a good idea]\n",
      "q : [have a great time]; a : [its a good time to get a good time]\n",
      "q : [why does my apple tv not show my icloud photos im just seeing an old photo stream unk]; a : [is that a thing ]\n",
      "q : [did you throw it out]; a : [no i didnt know]\n",
      "q : [idk why but the girl stuck in the street reminds me of unk]; a : [lol i know right]\n",
      "q : [i cant believe my ridiculous hashtag actually unk people will fall for anything]; a : [if you have to be a good time to get a wall]\n",
      "q : [probably the first and only conference swag ill ever wear]; a : [ dont know what you want to be]\n",
      "q : [when i am asked this question i usually answer not guilty]; a : [its not a fan of my life but i have to get a chance to get a new one]\n",
      "q : [when someone in the gang tries to unk friends]; a : [are you in the city]\n",
      "q : [need some new beats ]; a : [check these out]\n",
      "q : [looking forward to attending war on cancer event tomorrow in boston on way from airport passed a dan]; a : [can you be there in the bay area]\n",
      "q : [unk ok and im still waiting to hear some of your beats you never got back in touch with me]; a : [hey thank you i appreciate it]\n",
      "q : [if you would like to grow your business quickly then this will help you free from twitter]; a : [ you can be a muslim president for the country]\n",
      "q : [megan fox date soon ]; a : [i dont know what i was talking about this is my favorite part i have to go to my new]\n",
      "q : [unk why does this fire multiple events the first time i press a key]; a : [why is this]\n",
      "q : [they look very unk by the ocean do they love water]; a : [can i get a new one]\n",
      "q : [today in overwatch]; a : [the world is in the city of the world]\n",
      "q : [hillary will call his wife a racist for calling the cops on a black guy]; a : [because she is a liar]\n",
      "q : [why their unk gotta sit well for ]; a : [this is so funny]\n",
      "q : [not possible]; a : [im not gonna get a pic of you]\n",
      "q : [hey a little bit of rubber just makes it taste better]; a : [its a good thing]\n",
      "q : [i dont work friday either ]; a : [well i know if you need to be a good place]\n",
      "q : [when its but you stay cool]; a : [the whole thing is the best thing i have to go to the game]\n",
      "q : [vic and corey unk so vic can win]; a : [i think he was a good one]\n",
      "q : [y is unk so surprised i did the gov hw by myself smh]; a : [nope i know ]\n",
      "q : [this guy just fell out of my salad ]; a : [literally like a bitch]\n",
      "q : [s only microphone problem was that it was working]; a : [that was the first thing i was]\n",
      "q : [just speaking as an an unk guys uk but these shootings are getting way outta hand]; a : [its a joke]\n",
      "q : [its good to be emotionally unk]; a : [i know right but i am like it was a good thing to the end of the world]\n",
      "q : [anyone elses husband interrupt their kids all morning saying wrong]; a : [dont have to be a fan of the same]\n",
      "q : [ill really take you one of these days if youre down  its hella chill]; a : [i dont know if i was there for a while]\n",
      "q : [unk charge 2 is the best fitness unk period]; a : [the world needs to be a better job]\n",
      "q : [i would never argue that there is any such thing as good corruption]; a : [the whole thing is the worst of the world]\n",
      "q : [who wanna give me bday top]; a : [lol im in the bay ]\n",
      "q : [so you have the vice chair of the dnc and mayor of unk saying mm sucks and vice unk lol]; a : [agreed is the problem]\n",
      "q : [is it me or shouldnt the irs be paying attention]; a : [they think he doesnt have a chance]\n",
      "q : [you tried to me an adult black woman who my candidate should be that unk bigot get lost and um]; a : [trump is a racist and a racist]\n",
      "q : [looking for a here in]; a : [what is remote work]\n",
      "q : [new phone case who dis]; a : [literally got a new one of my life]\n",
      "q : [ball  church tonight b]; a : [the only one of the world is in the middle of the world]\n",
      "q : [when youve got something good going dont tell nobody]; a : [so true i dont know what to do]\n",
      "q : [i thought of you right after someone told me]; a : [oh i am so sorry]\n",
      "q : [ before i did the hosting unk we switched so q runs the show and i just drop knowledge bombs]; a : [ill be there for the same time to get back on the road]\n",
      "q : [thats not how that works]; a : [hes a moron]\n",
      "q : [i am behind all deer unk]; a : [this is a joke]\n",
      "q : [celebrity styles unk unk]; a : [he was so cute]\n",
      "q : [please call member relations at unk to have a team member remove you from our call list thank you]; a : [i have to be a fan of the book but i am not sure if you are]\n",
      "q : [yea why didnt you ever text me back]; a : [you dont know what you mean]\n",
      "q : [ doing the debates is only letting them unk take him apart in a controlled washington way no]; a : [and the media is not a terrible thing]\n",
      "q : [unk lol real life]; a : [she is a joke]\n",
      "q : [dr howard dean starts national dialogue about trump]; a : [what a moron]\n",
      "q : [i will be the 1st game at nats park game 1 or 3 went to spring training in march enjoy]; a : [will be there for the next time]\n",
      "q : [a couple weeks ago i joined  just in time to help with the public launch  check it out]; a : [i love the same one]\n",
      "q : [he got pulled because he lost his cool and had a fit]; a : [he is so cute ]\n",
      "q : [so you are into islamic child marriages knew it]; a : [what a surprise]\n",
      "q : [this review of easy from is nice but that show is like unk marshall]; a : [it was so good to watch]\n",
      "q : [yeah unless they have a good 2 guard it wont mean anything]; a : [the whole thing is the first thing i have to be in the middle of the first time]\n",
      "q : [lol  not exactly miss it means something like  this is it  ]; a : [ you dont know what the fuck is]\n",
      "q : [these people should not be told unk amp unk about the constitution amp laws of the country]; a : [the media is not the worst dangerous thing]\n",
      "q : [win al east as unk blows it ]; a : [just a few minutes ago]\n",
      "q : [gotta fade that unk]; a : [you know me too]\n",
      "q : [wow had no idea that was the last show smh is there a program lineup for the new platform]; a : [did it even happen to the end of the game]\n",
      "q : [the lion king whack]; a : [lol what the fuck]\n",
      "q : [does anyone have pics from nyc that i can use for an article]; a : [yes i think its a good idea]\n",
      "q : [why are you like this  ]; a : [ thank you ]\n",
      "q : [kind of like you controlling replying to these tweets]; a : [if you dont have to be a fan of the time i dont know what to do]\n",
      "q : [im reading a lot of hes cheating i think its more likely hes not making money hes losing it]; a : [he was a joke but he was a joke but he was a lot of shit]\n",
      "q : [i think that i am more competent than trump and i hate politics]; a : [you dont care about the debate of the debate]\n",
      "q : [got it ive been working on my patience alot can you just fly down and coach me lmao]; a : [what a great day]\n",
      "q : [i never like how i feel after visiting any restaurant but thats my own damn fault]; a : [i feel like you were a fan of my life ]\n",
      "q : [if youre a man and you keep saying that you dont trust hillary call your mom work that shit out]; a : [i dont care about that i dont care about the debate]\n",
      "q : [well that is my birthday]; a : [my favorite pic of the day]\n",
      "q : [unk thru my camera roll and feeling honestly depressed that i dont have this hair any more lol ]; a : [ill be there for a few days ]\n",
      "q : [i work at 3 if you do come ]; a : [i dont know if you can do that ]\n",
      "q : [i think i accidentally started watching unk]; a : [the whole thing is the worst]\n",
      "q : [you unk arent happy unless youre miserable thats a shitty way to live]; a : [and they are a fan of the same level of the world]\n",
      "q : [at the african american history museum with the unk out]; a : [oh wow this is awesome]\n",
      "q : [because he knows trump is unk unk and doesnt represent the republican party he was once a part of]; a : [you are a moron]\n",
      "q : [can you work wo unk and if so does ps react the old way]; a : [ive never been on the same side of the game]\n",
      "q : [meanwhile hillary destroys entire countries but somehow you thinking taxes are more important]; a : [of course i am not a racist]\n",
      "q : [most def need to stop drinking lmfao]; a : [you are so fucking cute]\n",
      "q : [a bus thats so tall when it goes under a bridge you have to duck pretty self unk]; a : [i dont know what it was but i was just thinking about it but i dont know it]\n",
      "q : [ironically for you when the police got there more guns did stop him]; a : [hes a fan of his heart]\n",
      "q : [need a photo of this event]; a : [we can have a good time]\n",
      "q : [instead of unk cops hug an unk who is giving everything to fight for your freedom]; a : [this is a good idea i think i could be able to be able to be president]\n",
      "q : [omg youre so lucky they are hilarious ]; a : [thank you so much ]\n",
      "q : [were on the same path lol]; a : [is that the first thing i was in the middle]\n",
      "q : [a witch is just a magical girl who read up on feminism ]; a : [the best of the best]\n",
      "q : [ceo interview series fred unk unk  by]; a : [this is a great photo]\n",
      "q : [just because hes accused doesnt mean he did it what happened to innocent till proven guilty]; a : [he said it was a joke to the debate of the debate]\n",
      "q : [we should totally do one whos around this week]; a : [is it a new thing]\n",
      "q : [its college man where you can eat alone and be unk by nobody]; a : [ i love this one]\n",
      "q : [ i love you unk and support anything you do]; a : [youre so sweet ]\n",
      "q : [plus the unk are different now just safe not to at first]; a : [thanks for the update i will be able to see this]\n",
      "q : [shes doing the unk stance ]; a : [you know what the fuck is]\n",
      "q : [i believe the house to the left is where they filmed the movie city island]; a : [we are not the worst]\n",
      "q : [oh snap  hope yall enjoyed ]; a : [ill be there ]\n",
      "q : [i hope change happens over time but not the social breakdown that i see coming]; a : [i have been thinking about this but i dont have to see the same thing]\n",
      "q : [fuck rude people on github open source was supposed to be a friendly space but there are always some assholes]; a : [but its not a fact that the problem is a lot of people are not capable of the problem]\n",
      "q : [we hope you can visit us on  ali]; a : [will be there on the news]\n",
      "q : [only ones with a chance of winning]; a : [i dont know what to do]\n",
      "q : [i am looking for someone who can give me quote for an app development ]; a : [if youre considering agency visit our portfolio send us your details to leadscom]\n",
      "q : [howard unk ridiculous coke user accusation against trump]; a : [the only reason is he is a pathological liar]\n",
      "q : [download not buy ]; a : [ you are not a fan of the world]\n",
      "q : [your personal invitation to spend the day with me and at the dream lounge unk ]; a : [did you know that cares about]\n",
      "q : [helped cause ]; a : [yes i know]\n",
      "q : [yes i guess it was you ok thanks for the confirmation by silence]; a : [you guys i have a feeling to get a good time to get a shot]\n",
      "q : [crooked question of the day]; a : [agreed yes the govt is a disgrace]\n",
      "q : [miss the far side]; a : [we are not a fan of the world]\n",
      "q : [mean i stand up for myself ]; a : [when you in the city]\n",
      "q : [oh my god hes making a king burger movie]; a : [what a great guy]\n",
      "q : [sure which will allow other countries to sue usa for billions taxes people got it now]; a : [the only thing will be in the middle of the middle of the usa movement in the usa]\n",
      "q : [endorse a candidate get death threats please go away 2016]; a : [are you going to be a hater for the debate]\n",
      "q : [visited today and got to try out some unk cool stuff that theyre working on]; a : [the best part are you in the city]\n",
      "q : [im on my way to a corporate party darling am cannot unk about your ho unk]; a : [whoa what is this]\n",
      "q : [youve beaten me like twice isnt that good enough ]; a : [so good ]\n",
      "q : [yo you ever been in love with someones smell ]; a : [gonna be a little game ]\n",
      "q : [thank you lily i love u]; a : [youre welcome ]\n",
      "q : [enjoying a gorgeous sunday afternoon covering the buffalo bills at new era field in buffalo ny]; a : [a great thing to be a great game]\n",
      "q : [sorry everyone but she makes a great point]; a : [dont think it was a joke but its not a good thing to the public]\n",
      "q : [thanks for the retweets this week much unk are you reading]; a : [you are welcome ]\n",
      "q : [lmao nah if she win she can go ]; a : [ you know]\n",
      "q : [wtf mine looks exactly the same]; a : [what the fuck]\n",
      "q : [you cant fight a monster by becoming a monster an eye for an eye makes the whole world blind]; a : [i think its a lot of people who have a problem to the public of the planet]\n",
      "q : [omg i swear to god i just bought one for fashion purposes]; a : [did you get that one out of the year i was just thinking about it]\n",
      "q : [that girl with huge boobs that unk out with danny unk]; a : [i think they have a chance to be a fan of the internet]\n",
      "q : [anyone else excited to dress for fall]; a : [ill be there for the next week ]\n",
      "q : [he went hard on sc filters]; a : [not a good one]\n",
      "q : [this is a serious unk r u down]; a : [oh yeah i know that]\n",
      "q : [unk the poll vote for your favorite mountain unk cocktail]; a : [they are a moron]\n"
     ]
    }
   ],
   "source": [
    "replies = []\n",
    "for ii, oi in zip(input_.T, output):\n",
    "    q = data_utils.decode(sequence=ii, lookup=metadata['idx2w'], separator=' ')\n",
    "    decoded = data_utils.decode(sequence=oi, lookup=metadata['idx2w'], separator=' ').split(' ')\n",
    "    if decoded.count('unk') == 0:\n",
    "        if decoded not in replies:\n",
    "            print('q : [{0}]; a : [{1}]'.format(q, ' '.join(decoded)))\n",
    "            replies.append(decoded)"
   ]
  },
  {
   "cell_type": "code",
   "execution_count": null,
   "metadata": {
    "collapsed": true,
    "deletable": true,
    "editable": true
   },
   "outputs": [],
   "source": []
  },
  {
   "cell_type": "code",
   "execution_count": null,
   "metadata": {
    "collapsed": true,
    "deletable": true,
    "editable": true
   },
   "outputs": [],
   "source": []
  },
  {
   "cell_type": "code",
   "execution_count": null,
   "metadata": {
    "collapsed": true,
    "deletable": true,
    "editable": true
   },
   "outputs": [],
   "source": []
  },
  {
   "cell_type": "code",
   "execution_count": null,
   "metadata": {
    "collapsed": true,
    "deletable": true,
    "editable": true
   },
   "outputs": [],
   "source": []
  },
  {
   "cell_type": "code",
   "execution_count": null,
   "metadata": {
    "collapsed": true,
    "deletable": true,
    "editable": true
   },
   "outputs": [],
   "source": []
  },
  {
   "cell_type": "code",
   "execution_count": null,
   "metadata": {
    "collapsed": true,
    "deletable": true,
    "editable": true
   },
   "outputs": [],
   "source": []
  }
 ],
 "metadata": {
  "kernelspec": {
   "display_name": "Python 3",
   "language": "python",
   "name": "python3"
  },
  "language_info": {
   "codemirror_mode": {
    "name": "ipython",
    "version": 3
   },
   "file_extension": ".py",
   "mimetype": "text/x-python",
   "name": "python",
   "nbconvert_exporter": "python",
   "pygments_lexer": "ipython3",
   "version": "3.5.2"
  }
 },
 "nbformat": 4,
 "nbformat_minor": 0
}
